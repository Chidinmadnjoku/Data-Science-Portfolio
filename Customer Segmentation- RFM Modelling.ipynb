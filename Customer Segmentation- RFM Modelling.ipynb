{
 "cells": [
  {
   "cell_type": "markdown",
   "id": "3e6394b6",
   "metadata": {},
   "source": [
    "#### As a Data Scientist | customer Analyst, my interest is the development of predictive segments using the RFM modelling to help Marketing Managers better serve their customers and maximize their customer lifetime value. \n",
    "\n",
    "#### The RFM (Recency, Frequency, and Monetary) model categorises customers based on their transaction history - how recently, how often and how much money was spent?\n",
    "\n",
    "#### Designing the appropriate CRM (Customer Relationship Management) strategies would help the business exceed it's customers' expectations and adopting the right customer rention strategies would further deepen it's relationship with them; hence the need for the adoption of the right customer-centric strategies.\n"
   ]
  },
  {
   "cell_type": "markdown",
   "id": "90f2ca35",
   "metadata": {},
   "source": [
    "#### A very effective way of distinguishing between customers and understanding their behaviour is combining CRM  with analytics. Thus, RFM analysis would be use to answers business questions like:\n",
    "\n",
    "#### Who are the best customers?\n",
    "\n",
    "#### Which customers are on the verge of churning?\n",
    "\n",
    "#### who are lost customers that the business can afford to ignore to effectively utilize budgets? \n",
    "\n",
    "#### Which customer is likely to be loyal in the near future?"
   ]
  },
  {
   "cell_type": "markdown",
   "id": "d76396c1",
   "metadata": {},
   "source": [
    "#### This model is linked to the popular 80/20 pareto principle which when applied to marketing indicates that 80% of the total revenue likely comes from the top 20% of the customers, thus making the identification and retention of such customers highly critical for business success."
   ]
  },
  {
   "cell_type": "markdown",
   "id": "339770e3",
   "metadata": {},
   "source": [
    "### Methodology\n",
    "#### This analysis leverages a historical retail transaction data which contains customers' transactions from May 2011 to March 2015.  Python programming language would be used to obtain the frequency, recency and monetary values in the last 2 years (730 days) for each customer, so that they get grouped into different segments which would determine the appropriate marketing strategies."
   ]
  },
  {
   "cell_type": "markdown",
   "id": "f80e74bd",
   "metadata": {},
   "source": [
    "### Variable Description\n",
    "#### The dataset contains three variable: \n",
    "#### customer_id - Unique customer Identification number\n",
    "#### trans_date - date of the transaction\n",
    "#### tran_amount - monetary value of the transaction."
   ]
  },
  {
   "cell_type": "code",
   "execution_count": 1,
   "id": "d669ed22",
   "metadata": {},
   "outputs": [],
   "source": [
    "#importing the libraries\n",
    "import pandas as pd\n",
    "import warnings\n",
    "import datetime as dt\n",
    "import numpy as np\n",
    "import matplotlib.pyplot as plt\n",
    "import seaborn as sns\n",
    "warnings.filterwarnings('ignore')"
   ]
  },
  {
   "cell_type": "code",
   "execution_count": 2,
   "id": "ddec66e1",
   "metadata": {
    "scrolled": true
   },
   "outputs": [
    {
     "data": {
      "text/html": [
       "<div>\n",
       "<style scoped>\n",
       "    .dataframe tbody tr th:only-of-type {\n",
       "        vertical-align: middle;\n",
       "    }\n",
       "\n",
       "    .dataframe tbody tr th {\n",
       "        vertical-align: top;\n",
       "    }\n",
       "\n",
       "    .dataframe thead th {\n",
       "        text-align: right;\n",
       "    }\n",
       "</style>\n",
       "<table border=\"1\" class=\"dataframe\">\n",
       "  <thead>\n",
       "    <tr style=\"text-align: right;\">\n",
       "      <th></th>\n",
       "      <th>customer_id</th>\n",
       "      <th>trans_date</th>\n",
       "      <th>tran_amount</th>\n",
       "    </tr>\n",
       "  </thead>\n",
       "  <tbody>\n",
       "    <tr>\n",
       "      <th>0</th>\n",
       "      <td>CS5295</td>\n",
       "      <td>11-Feb-13</td>\n",
       "      <td>35</td>\n",
       "    </tr>\n",
       "    <tr>\n",
       "      <th>1</th>\n",
       "      <td>CS4768</td>\n",
       "      <td>15-Mar-15</td>\n",
       "      <td>39</td>\n",
       "    </tr>\n",
       "    <tr>\n",
       "      <th>2</th>\n",
       "      <td>CS2122</td>\n",
       "      <td>26-Feb-13</td>\n",
       "      <td>52</td>\n",
       "    </tr>\n",
       "    <tr>\n",
       "      <th>3</th>\n",
       "      <td>CS1217</td>\n",
       "      <td>16-Nov-11</td>\n",
       "      <td>99</td>\n",
       "    </tr>\n",
       "    <tr>\n",
       "      <th>4</th>\n",
       "      <td>CS1850</td>\n",
       "      <td>20-Nov-13</td>\n",
       "      <td>78</td>\n",
       "    </tr>\n",
       "  </tbody>\n",
       "</table>\n",
       "</div>"
      ],
      "text/plain": [
       "  customer_id trans_date  tran_amount\n",
       "0      CS5295  11-Feb-13           35\n",
       "1      CS4768  15-Mar-15           39\n",
       "2      CS2122  26-Feb-13           52\n",
       "3      CS1217  16-Nov-11           99\n",
       "4      CS1850  20-Nov-13           78"
      ]
     },
     "execution_count": 2,
     "metadata": {},
     "output_type": "execute_result"
    }
   ],
   "source": [
    "#Loading the dataset\n",
    "rfmdata= pd.read_csv('Retail_Data_Transactions.csv')\n",
    "rfmdata.head()"
   ]
  },
  {
   "cell_type": "code",
   "execution_count": 3,
   "id": "0fc5e64f",
   "metadata": {},
   "outputs": [
    {
     "name": "stdout",
     "output_type": "stream",
     "text": [
      "<class 'pandas.core.frame.DataFrame'>\n",
      "RangeIndex: 125000 entries, 0 to 124999\n",
      "Data columns (total 3 columns):\n",
      " #   Column       Non-Null Count   Dtype \n",
      "---  ------       --------------   ----- \n",
      " 0   customer_id  125000 non-null  object\n",
      " 1   trans_date   125000 non-null  object\n",
      " 2   tran_amount  125000 non-null  int64 \n",
      "dtypes: int64(1), object(2)\n",
      "memory usage: 2.9+ MB\n"
     ]
    }
   ],
   "source": [
    "# This shows that the dataset contains 3 columns and 124999 rows of observation\n",
    "rfmdata.info()"
   ]
  },
  {
   "cell_type": "code",
   "execution_count": 4,
   "id": "67212f09",
   "metadata": {},
   "outputs": [
    {
     "data": {
      "text/html": [
       "<div>\n",
       "<style scoped>\n",
       "    .dataframe tbody tr th:only-of-type {\n",
       "        vertical-align: middle;\n",
       "    }\n",
       "\n",
       "    .dataframe tbody tr th {\n",
       "        vertical-align: top;\n",
       "    }\n",
       "\n",
       "    .dataframe thead th {\n",
       "        text-align: right;\n",
       "    }\n",
       "</style>\n",
       "<table border=\"1\" class=\"dataframe\">\n",
       "  <thead>\n",
       "    <tr style=\"text-align: right;\">\n",
       "      <th></th>\n",
       "      <th>tran_amount</th>\n",
       "    </tr>\n",
       "  </thead>\n",
       "  <tbody>\n",
       "    <tr>\n",
       "      <th>count</th>\n",
       "      <td>125000.000000</td>\n",
       "    </tr>\n",
       "    <tr>\n",
       "      <th>mean</th>\n",
       "      <td>64.991912</td>\n",
       "    </tr>\n",
       "    <tr>\n",
       "      <th>std</th>\n",
       "      <td>22.860006</td>\n",
       "    </tr>\n",
       "    <tr>\n",
       "      <th>min</th>\n",
       "      <td>10.000000</td>\n",
       "    </tr>\n",
       "    <tr>\n",
       "      <th>25%</th>\n",
       "      <td>47.000000</td>\n",
       "    </tr>\n",
       "    <tr>\n",
       "      <th>50%</th>\n",
       "      <td>65.000000</td>\n",
       "    </tr>\n",
       "    <tr>\n",
       "      <th>75%</th>\n",
       "      <td>83.000000</td>\n",
       "    </tr>\n",
       "    <tr>\n",
       "      <th>max</th>\n",
       "      <td>105.000000</td>\n",
       "    </tr>\n",
       "  </tbody>\n",
       "</table>\n",
       "</div>"
      ],
      "text/plain": [
       "         tran_amount\n",
       "count  125000.000000\n",
       "mean       64.991912\n",
       "std        22.860006\n",
       "min        10.000000\n",
       "25%        47.000000\n",
       "50%        65.000000\n",
       "75%        83.000000\n",
       "max       105.000000"
      ]
     },
     "execution_count": 4,
     "metadata": {},
     "output_type": "execute_result"
    }
   ],
   "source": [
    "#Checking the details of customers transactions.\n",
    "rfmdata.describe()"
   ]
  },
  {
   "cell_type": "markdown",
   "id": "68b943b0",
   "metadata": {},
   "source": [
    "#### This reveals that most of the customers per transaction, spend £105 on the avearage with £10 being the lowest and £105 being the hightest value of spend.  \n"
   ]
  },
  {
   "cell_type": "code",
   "execution_count": 5,
   "id": "09f9b6ba",
   "metadata": {},
   "outputs": [
    {
     "data": {
      "text/plain": [
       "6889"
      ]
     },
     "execution_count": 5,
     "metadata": {},
     "output_type": "execute_result"
    }
   ],
   "source": [
    "#Total number of customers \n",
    "rfmdata['customer_id'].nunique()"
   ]
  },
  {
   "cell_type": "code",
   "execution_count": 8,
   "id": "8379beed",
   "metadata": {},
   "outputs": [
    {
     "name": "stdout",
     "output_type": "stream",
     "text": [
      "<class 'pandas.core.frame.DataFrame'>\n",
      "RangeIndex: 125000 entries, 0 to 124999\n",
      "Data columns (total 3 columns):\n",
      " #   Column       Non-Null Count   Dtype         \n",
      "---  ------       --------------   -----         \n",
      " 0   customer_id  125000 non-null  object        \n",
      " 1   trans_date   125000 non-null  datetime64[ns]\n",
      " 2   tran_amount  125000 non-null  int64         \n",
      "dtypes: datetime64[ns](1), int64(1), object(1)\n",
      "memory usage: 2.9+ MB\n"
     ]
    }
   ],
   "source": [
    "# change the tran-date column to datetime\n",
    "rfmdata['trans_date'] = pd.to_datetime(rfmdata['trans_date'])\n",
    "rfmdata.info()"
   ]
  },
  {
   "cell_type": "code",
   "execution_count": 9,
   "id": "4965d1f8",
   "metadata": {
    "scrolled": true
   },
   "outputs": [
    {
     "data": {
      "text/html": [
       "<div>\n",
       "<style scoped>\n",
       "    .dataframe tbody tr th:only-of-type {\n",
       "        vertical-align: middle;\n",
       "    }\n",
       "\n",
       "    .dataframe tbody tr th {\n",
       "        vertical-align: top;\n",
       "    }\n",
       "\n",
       "    .dataframe thead th {\n",
       "        text-align: right;\n",
       "    }\n",
       "</style>\n",
       "<table border=\"1\" class=\"dataframe\">\n",
       "  <thead>\n",
       "    <tr style=\"text-align: right;\">\n",
       "      <th></th>\n",
       "      <th>customer_id</th>\n",
       "      <th>trans_date</th>\n",
       "      <th>tran_amount</th>\n",
       "    </tr>\n",
       "  </thead>\n",
       "  <tbody>\n",
       "    <tr>\n",
       "      <th>0</th>\n",
       "      <td>CS5295</td>\n",
       "      <td>2013-02-11</td>\n",
       "      <td>35</td>\n",
       "    </tr>\n",
       "    <tr>\n",
       "      <th>1</th>\n",
       "      <td>CS4768</td>\n",
       "      <td>2015-03-15</td>\n",
       "      <td>39</td>\n",
       "    </tr>\n",
       "    <tr>\n",
       "      <th>2</th>\n",
       "      <td>CS2122</td>\n",
       "      <td>2013-02-26</td>\n",
       "      <td>52</td>\n",
       "    </tr>\n",
       "    <tr>\n",
       "      <th>3</th>\n",
       "      <td>CS1217</td>\n",
       "      <td>2011-11-16</td>\n",
       "      <td>99</td>\n",
       "    </tr>\n",
       "    <tr>\n",
       "      <th>4</th>\n",
       "      <td>CS1850</td>\n",
       "      <td>2013-11-20</td>\n",
       "      <td>78</td>\n",
       "    </tr>\n",
       "  </tbody>\n",
       "</table>\n",
       "</div>"
      ],
      "text/plain": [
       "  customer_id trans_date  tran_amount\n",
       "0      CS5295 2013-02-11           35\n",
       "1      CS4768 2015-03-15           39\n",
       "2      CS2122 2013-02-26           52\n",
       "3      CS1217 2011-11-16           99\n",
       "4      CS1850 2013-11-20           78"
      ]
     },
     "execution_count": 9,
     "metadata": {},
     "output_type": "execute_result"
    }
   ],
   "source": [
    "rfmdata.head()"
   ]
  },
  {
   "cell_type": "markdown",
   "id": "27f19868",
   "metadata": {},
   "source": [
    "#### Checking for the earliest and lastest transaction date"
   ]
  },
  {
   "cell_type": "code",
   "execution_count": 10,
   "id": "edad4d07",
   "metadata": {},
   "outputs": [
    {
     "data": {
      "text/plain": [
       "Timestamp('2011-05-16 00:00:00')"
      ]
     },
     "execution_count": 10,
     "metadata": {},
     "output_type": "execute_result"
    }
   ],
   "source": [
    "rfmdata['trans_date'].min()"
   ]
  },
  {
   "cell_type": "code",
   "execution_count": 11,
   "id": "4897b86f",
   "metadata": {},
   "outputs": [
    {
     "data": {
      "text/plain": [
       "Timestamp('2015-03-16 00:00:00')"
      ]
     },
     "execution_count": 11,
     "metadata": {},
     "output_type": "execute_result"
    }
   ],
   "source": [
    "rfmdata['trans_date'].max()"
   ]
  },
  {
   "cell_type": "code",
   "execution_count": 12,
   "id": "4a169eda",
   "metadata": {},
   "outputs": [
    {
     "data": {
      "text/html": [
       "<div>\n",
       "<style scoped>\n",
       "    .dataframe tbody tr th:only-of-type {\n",
       "        vertical-align: middle;\n",
       "    }\n",
       "\n",
       "    .dataframe tbody tr th {\n",
       "        vertical-align: top;\n",
       "    }\n",
       "\n",
       "    .dataframe thead th {\n",
       "        text-align: right;\n",
       "    }\n",
       "</style>\n",
       "<table border=\"1\" class=\"dataframe\">\n",
       "  <thead>\n",
       "    <tr style=\"text-align: right;\">\n",
       "      <th></th>\n",
       "      <th>customer_id</th>\n",
       "      <th>trans_date</th>\n",
       "      <th>tran_amount</th>\n",
       "      <th>hist</th>\n",
       "    </tr>\n",
       "  </thead>\n",
       "  <tbody>\n",
       "    <tr>\n",
       "      <th>0</th>\n",
       "      <td>CS5295</td>\n",
       "      <td>2013-02-11</td>\n",
       "      <td>35</td>\n",
       "      <td>779.0</td>\n",
       "    </tr>\n",
       "    <tr>\n",
       "      <th>1</th>\n",
       "      <td>CS4768</td>\n",
       "      <td>2015-03-15</td>\n",
       "      <td>39</td>\n",
       "      <td>17.0</td>\n",
       "    </tr>\n",
       "    <tr>\n",
       "      <th>2</th>\n",
       "      <td>CS2122</td>\n",
       "      <td>2013-02-26</td>\n",
       "      <td>52</td>\n",
       "      <td>764.0</td>\n",
       "    </tr>\n",
       "    <tr>\n",
       "      <th>3</th>\n",
       "      <td>CS1217</td>\n",
       "      <td>2011-11-16</td>\n",
       "      <td>99</td>\n",
       "      <td>1232.0</td>\n",
       "    </tr>\n",
       "    <tr>\n",
       "      <th>4</th>\n",
       "      <td>CS1850</td>\n",
       "      <td>2013-11-20</td>\n",
       "      <td>78</td>\n",
       "      <td>497.0</td>\n",
       "    </tr>\n",
       "  </tbody>\n",
       "</table>\n",
       "</div>"
      ],
      "text/plain": [
       "  customer_id trans_date  tran_amount    hist\n",
       "0      CS5295 2013-02-11           35   779.0\n",
       "1      CS4768 2015-03-15           39    17.0\n",
       "2      CS2122 2013-02-26           52   764.0\n",
       "3      CS1217 2011-11-16           99  1232.0\n",
       "4      CS1850 2013-11-20           78   497.0"
      ]
     },
     "execution_count": 12,
     "metadata": {},
     "output_type": "execute_result"
    }
   ],
   "source": [
    "#Assuming this analysis is being done on the 01/04/2015,finding the number of days from the\n",
    "#last transaction date which would be used to calculate the recency value.\n",
    "sd = dt.datetime(2015,4,1)\n",
    "rfmdata['hist']=sd - rfmdata['trans_date']\n",
    "rfmdata['hist'].astype('timedelta64[D]')\n",
    "rfmdata['hist']=rfmdata['hist'] / np.timedelta64(1, 'D')\n",
    "rfmdata.head()"
   ]
  },
  {
   "cell_type": "code",
   "execution_count": 14,
   "id": "fbd1b700",
   "metadata": {
    "scrolled": true
   },
   "outputs": [
    {
     "name": "stdout",
     "output_type": "stream",
     "text": [
      "<class 'pandas.core.frame.DataFrame'>\n",
      "Int64Index: 63633 entries, 1 to 124999\n",
      "Data columns (total 4 columns):\n",
      " #   Column       Non-Null Count  Dtype         \n",
      "---  ------       --------------  -----         \n",
      " 0   customer_id  63633 non-null  object        \n",
      " 1   trans_date   63633 non-null  datetime64[ns]\n",
      " 2   tran_amount  63633 non-null  int64         \n",
      " 3   hist         63633 non-null  float64       \n",
      "dtypes: datetime64[ns](1), float64(1), int64(1), object(1)\n",
      "memory usage: 2.4+ MB\n"
     ]
    }
   ],
   "source": [
    "# considering only transactions done within the ast 2 years (730 days)\n",
    "rfmdata=rfmdata[rfmdata['hist'] < 730]\n",
    "rfmdata.info()"
   ]
  },
  {
   "cell_type": "markdown",
   "id": "24801acb",
   "metadata": {},
   "source": [
    "### Creating and validating the RFM Table"
   ]
  },
  {
   "cell_type": "code",
   "execution_count": 15,
   "id": "cf3a50c9",
   "metadata": {},
   "outputs": [
    {
     "data": {
      "text/html": [
       "<div>\n",
       "<style scoped>\n",
       "    .dataframe tbody tr th:only-of-type {\n",
       "        vertical-align: middle;\n",
       "    }\n",
       "\n",
       "    .dataframe tbody tr th {\n",
       "        vertical-align: top;\n",
       "    }\n",
       "\n",
       "    .dataframe thead th {\n",
       "        text-align: right;\n",
       "    }\n",
       "</style>\n",
       "<table border=\"1\" class=\"dataframe\">\n",
       "  <thead>\n",
       "    <tr style=\"text-align: right;\">\n",
       "      <th></th>\n",
       "      <th>recency</th>\n",
       "      <th>frequency</th>\n",
       "      <th>monetary</th>\n",
       "    </tr>\n",
       "    <tr>\n",
       "      <th>customer_id</th>\n",
       "      <th></th>\n",
       "      <th></th>\n",
       "      <th></th>\n",
       "    </tr>\n",
       "  </thead>\n",
       "  <tbody>\n",
       "    <tr>\n",
       "      <th>CS1112</th>\n",
       "      <td>77.0</td>\n",
       "      <td>6</td>\n",
       "      <td>358</td>\n",
       "    </tr>\n",
       "    <tr>\n",
       "      <th>CS1113</th>\n",
       "      <td>51.0</td>\n",
       "      <td>11</td>\n",
       "      <td>775</td>\n",
       "    </tr>\n",
       "    <tr>\n",
       "      <th>CS1114</th>\n",
       "      <td>48.0</td>\n",
       "      <td>11</td>\n",
       "      <td>804</td>\n",
       "    </tr>\n",
       "    <tr>\n",
       "      <th>CS1115</th>\n",
       "      <td>27.0</td>\n",
       "      <td>10</td>\n",
       "      <td>765</td>\n",
       "    </tr>\n",
       "    <tr>\n",
       "      <th>CS1116</th>\n",
       "      <td>219.0</td>\n",
       "      <td>5</td>\n",
       "      <td>333</td>\n",
       "    </tr>\n",
       "  </tbody>\n",
       "</table>\n",
       "</div>"
      ],
      "text/plain": [
       "             recency  frequency  monetary\n",
       "customer_id                              \n",
       "CS1112          77.0          6       358\n",
       "CS1113          51.0         11       775\n",
       "CS1114          48.0         11       804\n",
       "CS1115          27.0         10       765\n",
       "CS1116         219.0          5       333"
      ]
     },
     "execution_count": 15,
     "metadata": {},
     "output_type": "execute_result"
    }
   ],
   "source": [
    "rfmTable = rfmdata.groupby('customer_id').agg({'hist': lambda x:x.min(), # Recency\n",
    "                                        'customer_id': lambda x: len(x), # Frequency\n",
    "                                        'tran_amount': lambda x: x.sum()})# Monetary\n",
    "\n",
    "rfmTable.rename(columns={'hist': 'recency', \n",
    "                         'customer_id': 'frequency', \n",
    "                         'tran_amount': 'monetary'}, inplace=True)\n",
    "\n",
    "rfmTable.head()\n"
   ]
  },
  {
   "cell_type": "markdown",
   "id": "ef377afe",
   "metadata": {},
   "source": [
    "#### The RFM table shows that customer CS1114 has the highest monetary value of £804, purchased 11 times and his last transaction day was 48 days ago"
   ]
  },
  {
   "cell_type": "code",
   "execution_count": 16,
   "id": "4334fc78",
   "metadata": {},
   "outputs": [
    {
     "data": {
      "text/html": [
       "<div>\n",
       "<style scoped>\n",
       "    .dataframe tbody tr th:only-of-type {\n",
       "        vertical-align: middle;\n",
       "    }\n",
       "\n",
       "    .dataframe tbody tr th {\n",
       "        vertical-align: top;\n",
       "    }\n",
       "\n",
       "    .dataframe thead th {\n",
       "        text-align: right;\n",
       "    }\n",
       "</style>\n",
       "<table border=\"1\" class=\"dataframe\">\n",
       "  <thead>\n",
       "    <tr style=\"text-align: right;\">\n",
       "      <th></th>\n",
       "      <th>customer_id</th>\n",
       "      <th>trans_date</th>\n",
       "      <th>tran_amount</th>\n",
       "      <th>hist</th>\n",
       "    </tr>\n",
       "  </thead>\n",
       "  <tbody>\n",
       "    <tr>\n",
       "      <th>2850</th>\n",
       "      <td>CS1114</td>\n",
       "      <td>2015-02-12</td>\n",
       "      <td>79</td>\n",
       "      <td>48.0</td>\n",
       "    </tr>\n",
       "    <tr>\n",
       "      <th>3146</th>\n",
       "      <td>CS1114</td>\n",
       "      <td>2013-12-29</td>\n",
       "      <td>105</td>\n",
       "      <td>458.0</td>\n",
       "    </tr>\n",
       "    <tr>\n",
       "      <th>6736</th>\n",
       "      <td>CS1114</td>\n",
       "      <td>2013-12-12</td>\n",
       "      <td>43</td>\n",
       "      <td>475.0</td>\n",
       "    </tr>\n",
       "    <tr>\n",
       "      <th>26900</th>\n",
       "      <td>CS1114</td>\n",
       "      <td>2014-02-04</td>\n",
       "      <td>95</td>\n",
       "      <td>421.0</td>\n",
       "    </tr>\n",
       "    <tr>\n",
       "      <th>35555</th>\n",
       "      <td>CS1114</td>\n",
       "      <td>2014-12-31</td>\n",
       "      <td>95</td>\n",
       "      <td>91.0</td>\n",
       "    </tr>\n",
       "    <tr>\n",
       "      <th>64947</th>\n",
       "      <td>CS1114</td>\n",
       "      <td>2014-08-31</td>\n",
       "      <td>46</td>\n",
       "      <td>213.0</td>\n",
       "    </tr>\n",
       "    <tr>\n",
       "      <th>69146</th>\n",
       "      <td>CS1114</td>\n",
       "      <td>2013-05-27</td>\n",
       "      <td>68</td>\n",
       "      <td>674.0</td>\n",
       "    </tr>\n",
       "    <tr>\n",
       "      <th>70087</th>\n",
       "      <td>CS1114</td>\n",
       "      <td>2014-09-01</td>\n",
       "      <td>58</td>\n",
       "      <td>212.0</td>\n",
       "    </tr>\n",
       "    <tr>\n",
       "      <th>72970</th>\n",
       "      <td>CS1114</td>\n",
       "      <td>2013-09-11</td>\n",
       "      <td>84</td>\n",
       "      <td>567.0</td>\n",
       "    </tr>\n",
       "    <tr>\n",
       "      <th>76124</th>\n",
       "      <td>CS1114</td>\n",
       "      <td>2014-01-25</td>\n",
       "      <td>94</td>\n",
       "      <td>431.0</td>\n",
       "    </tr>\n",
       "    <tr>\n",
       "      <th>83152</th>\n",
       "      <td>CS1114</td>\n",
       "      <td>2014-12-12</td>\n",
       "      <td>37</td>\n",
       "      <td>110.0</td>\n",
       "    </tr>\n",
       "  </tbody>\n",
       "</table>\n",
       "</div>"
      ],
      "text/plain": [
       "      customer_id trans_date  tran_amount   hist\n",
       "2850       CS1114 2015-02-12           79   48.0\n",
       "3146       CS1114 2013-12-29          105  458.0\n",
       "6736       CS1114 2013-12-12           43  475.0\n",
       "26900      CS1114 2014-02-04           95  421.0\n",
       "35555      CS1114 2014-12-31           95   91.0\n",
       "64947      CS1114 2014-08-31           46  213.0\n",
       "69146      CS1114 2013-05-27           68  674.0\n",
       "70087      CS1114 2014-09-01           58  212.0\n",
       "72970      CS1114 2013-09-11           84  567.0\n",
       "76124      CS1114 2014-01-25           94  431.0\n",
       "83152      CS1114 2014-12-12           37  110.0"
      ]
     },
     "execution_count": 16,
     "metadata": {},
     "output_type": "execute_result"
    }
   ],
   "source": [
    "rfmdata[rfmdata['customer_id']=='CS1114']"
   ]
  },
  {
   "cell_type": "markdown",
   "id": "5107852d",
   "metadata": {},
   "source": [
    "#### To validate the RFM table, the transaction history of customer CS1114 was used for cross-checking and the result proved the RFM table to be accurate."
   ]
  },
  {
   "cell_type": "markdown",
   "id": "f81978dc",
   "metadata": {},
   "source": [
    "## Exploratory Data Analysis"
   ]
  },
  {
   "cell_type": "markdown",
   "id": "3c2f9c10",
   "metadata": {},
   "source": [
    "#### Visualizing the Recency Value"
   ]
  },
  {
   "cell_type": "code",
   "execution_count": 36,
   "id": "f6e7e785",
   "metadata": {},
   "outputs": [
    {
     "data": {
      "text/plain": [
       "<AxesSubplot:xlabel='recency'>"
      ]
     },
     "execution_count": 36,
     "metadata": {},
     "output_type": "execute_result"
    },
    {
     "data": {
      "image/png": "[encoded data removed]",
      "text/plain": [
       "<Figure size 576x360 with 1 Axes>"
      ]
     },
     "metadata": {
      "needs_background": "light"
     },
     "output_type": "display_data"
    }
   ],
   "source": [
    "plt.figure(figsize=(8,5))\n",
    "sns.distplot(rfmSeg.recency,bins=8,kde=False,rug=True)\n",
    "\n",
    "#The visualization shows that the number of customers that transacted with the business within the last 90 days are more than those that didn't within the last two years. "
   ]
  },
  {
   "cell_type": "markdown",
   "id": "7b1f138c",
   "metadata": {},
   "source": [
    "### Visualizing the Frequency Value"
   ]
  },
  {
   "cell_type": "code",
   "execution_count": 37,
   "id": "efbffa8e",
   "metadata": {
    "scrolled": true
   },
   "outputs": [
    {
     "data": {
      "text/plain": [
       "<AxesSubplot:xlabel='frequency'>"
      ]
     },
     "execution_count": 37,
     "metadata": {},
     "output_type": "execute_result"
    },
    {
     "data": {
      "image/png": "[encoded data removed]",
      "text/plain": [
       "<Figure size 576x360 with 1 Axes>"
      ]
     },
     "metadata": {
      "needs_background": "light"
     },
     "output_type": "display_data"
    }
   ],
   "source": [
    "plt.figure(figsize=(8,5))\n",
    "sns.distplot(rfmSeg.frequency,bins=8,kde=False,rug=True)\n",
    "#The plot shows that the number of customers that transacted between 7 tp 9 times is far more than those that did 5 times or 15 times. "
   ]
  },
  {
   "cell_type": "markdown",
   "id": "6cc351e5",
   "metadata": {},
   "source": [
    "### Visualizing the Monetary Value"
   ]
  },
  {
   "cell_type": "code",
   "execution_count": 62,
   "id": "851e6de9",
   "metadata": {
    "scrolled": true
   },
   "outputs": [
    {
     "data": {
      "text/plain": [
       "<AxesSubplot:xlabel='monetary'>"
      ]
     },
     "execution_count": 62,
     "metadata": {},
     "output_type": "execute_result"
    },
    {
     "data": {
      "image/png": "[encoded data removed]",
      "text/plain": [
       "<Figure size 576x360 with 1 Axes>"
      ]
     },
     "metadata": {
      "needs_background": "light"
     },
     "output_type": "display_data"
    }
   ],
   "source": [
    "plt.figure(figsize=(8,5))\n",
    "sns.distplot(rfmSeg.monetary,bins=8,kde=False,rug=True)\n",
    "#The monetary value is the sum of the value of each customer's transaction.\n",
    "#The plot shows that most customers spent in total between £400 and £600 with the last two years.  "
   ]
  },
  {
   "cell_type": "markdown",
   "id": "8ba71b8b",
   "metadata": {},
   "source": [
    "#### Visualizing Recency VS Frequency"
   ]
  },
  {
   "cell_type": "code",
   "execution_count": 55,
   "id": "3020f3cb",
   "metadata": {
    "scrolled": true
   },
   "outputs": [
    {
     "data": {
      "text/plain": [
       "Text(0, 0.5, 'frequency')"
      ]
     },
     "execution_count": 55,
     "metadata": {},
     "output_type": "execute_result"
    },
    {
     "data": {
      "image/png": "[encoded data removed]",
      "text/plain": [
       "<Figure size 432x288 with 1 Axes>"
      ]
     },
     "metadata": {
      "needs_background": "light"
     },
     "output_type": "display_data"
    }
   ],
   "source": [
    "plt.scatter(rfmSeg.groupby('customer_id')['recency'].sum(), rfmSeg.groupby('customer_id')['frequency'].sum(),\n",
    "            color = 'red',\n",
    "            marker = '*', alpha = 0.3)\n",
    "\n",
    "plt.title('Scatter Plot for Recency and Frequency') \n",
    "plt.xlabel('recency')\n",
    "plt.ylabel('frequency')\n",
    "\n",
    "#The plot shows that the customers that bought most recently, transact most frequently with the business."
   ]
  },
  {
   "cell_type": "markdown",
   "id": "c3f9af40",
   "metadata": {},
   "source": [
    "#### visualizing Frequency vs Monetary\n",
    "             "
   ]
  },
  {
   "cell_type": "code",
   "execution_count": 56,
   "id": "590ea1e9",
   "metadata": {},
   "outputs": [
    {
     "data": {
      "text/plain": [
       "Text(0, 0.5, 'Frequency')"
      ]
     },
     "execution_count": 56,
     "metadata": {},
     "output_type": "execute_result"
    },
    {
     "data": {
      "image/png": "[encoded data removed]",
      "text/plain": [
       "<Figure size 432x288 with 1 Axes>"
      ]
     },
     "metadata": {
      "needs_background": "light"
     },
     "output_type": "display_data"
    }
   ],
   "source": [
    "\n",
    "plt.scatter(rfmSeg.groupby('customer_id')['monetary'].sum(), rfmSeg.groupby('customer_id')['frequency'].sum(),\n",
    "            color = 'red',\n",
    "            marker = '*', alpha = 0.3)\n",
    "\n",
    "plt.title('Scatter Plot for Monetary and Frequency') \n",
    "plt.xlabel('Monetary')\n",
    "plt.ylabel('Frequency')\n",
    "\n",
    "#The plot is showing that the highest spender buy most frequently and there is a concentration of customers around the average for both frequency and monetary.\n",
    "#The monetary value has a positive correlation with frequency;  the number of transactions increase as more money is spent."
   ]
  },
  {
   "cell_type": "markdown",
   "id": "2e121be5",
   "metadata": {},
   "source": [
    "#### Recency VS Frequency VS Monetary"
   ]
  },
  {
   "cell_type": "code",
   "execution_count": 48,
   "id": "54aa085f",
   "metadata": {},
   "outputs": [
    {
     "data": {
      "text/plain": [
       "Text(0, 0.5, 'Frequency')"
      ]
     },
     "execution_count": 48,
     "metadata": {},
     "output_type": "execute_result"
    },
    {
     "data": {
      "image/png": "[encoded data removed]",
      "text/plain": [
       "<Figure size 432x288 with 1 Axes>"
      ]
     },
     "metadata": {
      "needs_background": "light"
     },
     "output_type": "display_data"
    }
   ],
   "source": [
    "Monetary = rfmdata.groupby('customer_id')['tran_amount'].sum()\n",
    "plt.scatter(rfmSeg.groupby('customer_id')['recency'].sum(), rfmSeg.groupby('customer_id')['frequency'].sum(),\n",
    "            marker = '*', alpha = 0.3,c= Monetary)\n",
    "\n",
    "plt.title('Scatter Plot for monetary, Recency and Frequency')\n",
    "plt.xlabel('recency')\n",
    "plt.ylabel('Frequency')\n",
    "\n",
    "#The colours indicate monetary value. The customers with higher spending power have lower frequency with varying recency values."
   ]
  },
  {
   "cell_type": "markdown",
   "id": "e5f158ce",
   "metadata": {},
   "source": [
    "#### Obtaining the the RFM Scores using the Quintile Method."
   ]
  },
  {
   "cell_type": "code",
   "execution_count": 17,
   "id": "c7fd3ed8",
   "metadata": {},
   "outputs": [
    {
     "data": {
      "text/html": [
       "<div>\n",
       "<style scoped>\n",
       "    .dataframe tbody tr th:only-of-type {\n",
       "        vertical-align: middle;\n",
       "    }\n",
       "\n",
       "    .dataframe tbody tr th {\n",
       "        vertical-align: top;\n",
       "    }\n",
       "\n",
       "    .dataframe thead th {\n",
       "        text-align: right;\n",
       "    }\n",
       "</style>\n",
       "<table border=\"1\" class=\"dataframe\">\n",
       "  <thead>\n",
       "    <tr style=\"text-align: right;\">\n",
       "      <th></th>\n",
       "      <th>recency</th>\n",
       "      <th>frequency</th>\n",
       "      <th>monetary</th>\n",
       "    </tr>\n",
       "  </thead>\n",
       "  <tbody>\n",
       "    <tr>\n",
       "      <th>0.2</th>\n",
       "      <td>33.0</td>\n",
       "      <td>6.0</td>\n",
       "      <td>338.0</td>\n",
       "    </tr>\n",
       "    <tr>\n",
       "      <th>0.4</th>\n",
       "      <td>55.0</td>\n",
       "      <td>8.0</td>\n",
       "      <td>510.0</td>\n",
       "    </tr>\n",
       "    <tr>\n",
       "      <th>0.6</th>\n",
       "      <td>88.0</td>\n",
       "      <td>10.0</td>\n",
       "      <td>672.0</td>\n",
       "    </tr>\n",
       "    <tr>\n",
       "      <th>0.8</th>\n",
       "      <td>144.0</td>\n",
       "      <td>12.0</td>\n",
       "      <td>845.0</td>\n",
       "    </tr>\n",
       "  </tbody>\n",
       "</table>\n",
       "</div>"
      ],
      "text/plain": [
       "     recency  frequency  monetary\n",
       "0.2     33.0        6.0     338.0\n",
       "0.4     55.0        8.0     510.0\n",
       "0.6     88.0       10.0     672.0\n",
       "0.8    144.0       12.0     845.0"
      ]
     },
     "execution_count": 17,
     "metadata": {},
     "output_type": "execute_result"
    }
   ],
   "source": [
    "quintiles = rfmTable.quantile(q=[0.20,0.40,0.60,0.80])\n",
    "quintiles"
   ]
  },
  {
   "cell_type": "markdown",
   "id": "6f5180d3",
   "metadata": {},
   "source": [
    "#### Inserting quintles into a dictionary for ease of use\n"
   ]
  },
  {
   "cell_type": "code",
   "execution_count": 18,
   "id": "5714d428",
   "metadata": {},
   "outputs": [
    {
     "data": {
      "text/plain": [
       "{'recency': {0.2: 33.0, 0.4: 55.0, 0.6: 88.0, 0.8: 144.0},\n",
       " 'frequency': {0.2: 6.0, 0.4: 8.0, 0.6: 10.0, 0.8: 12.0},\n",
       " 'monetary': {0.2: 338.0, 0.4: 510.0, 0.6: 672.0, 0.8: 845.0}}"
      ]
     },
     "execution_count": 18,
     "metadata": {},
     "output_type": "execute_result"
    }
   ],
   "source": [
    "quintiles=quintiles.to_dict()\n",
    "quintiles"
   ]
  },
  {
   "cell_type": "code",
   "execution_count": 19,
   "id": "1b7fd593",
   "metadata": {},
   "outputs": [],
   "source": [
    "rfmSeg = rfmTable"
   ]
  },
  {
   "cell_type": "markdown",
   "id": "ad5ed235",
   "metadata": {},
   "source": [
    "#### Scores between 1 and 5 are being assigned to Recency, Frequency and Monetary, 5 being the best score and 1 being the least."
   ]
  },
  {
   "cell_type": "code",
   "execution_count": 31,
   "id": "266da161",
   "metadata": {},
   "outputs": [],
   "source": [
    "# Arguments (x = value, p = recency, monetary_value, frequency, k = quintile dict)\n",
    "#Finding the Recency, freqency and Monetary for each customer\n",
    "\n",
    "def RFMClass(x,p,d):\n",
    "    if x <= d[p][0.20]:\n",
    "        return 5\n",
    "    elif x <= d[p][0.40]:\n",
    "        return 4\n",
    "    elif x <= d[p][0.60]: \n",
    "        return 3\n",
    "    elif x <= d[p][0.80]: \n",
    "        return 2\n",
    "    else:\n",
    "        return 1"
   ]
  },
  {
   "cell_type": "code",
   "execution_count": 32,
   "id": "189935c4",
   "metadata": {},
   "outputs": [],
   "source": [
    "rfmSeg = rfmTable\n",
    "rfmSeg['R_score'] = rfmSeg['recency'].apply(RFMClass, args=('recency',quintiles,))\n",
    "rfmSeg['F_score'] = rfmSeg['frequency'].apply(RFMClass, args=('frequency',quintiles,))\n",
    "rfmSeg['M_score'] = rfmSeg['monetary'].apply(RFMClass, args=('monetary',quintiles,))"
   ]
  },
  {
   "cell_type": "code",
   "execution_count": 33,
   "id": "429a9522",
   "metadata": {},
   "outputs": [],
   "source": [
    "#Creating the RFM score by concartinating all scores \n",
    "\n",
    "rfmSeg['RFMscore'] = rfmSeg.R_score.map(str) \\\n",
    "                            + rfmSeg.F_score.map(str) \\\n",
    "                            + rfmSeg.M_score.map(str)"
   ]
  },
  {
   "cell_type": "code",
   "execution_count": 34,
   "id": "7e0c0a0f",
   "metadata": {},
   "outputs": [
    {
     "data": {
      "text/html": [
       "<div>\n",
       "<style scoped>\n",
       "    .dataframe tbody tr th:only-of-type {\n",
       "        vertical-align: middle;\n",
       "    }\n",
       "\n",
       "    .dataframe tbody tr th {\n",
       "        vertical-align: top;\n",
       "    }\n",
       "\n",
       "    .dataframe thead th {\n",
       "        text-align: right;\n",
       "    }\n",
       "</style>\n",
       "<table border=\"1\" class=\"dataframe\">\n",
       "  <thead>\n",
       "    <tr style=\"text-align: right;\">\n",
       "      <th></th>\n",
       "      <th>recency</th>\n",
       "      <th>frequency</th>\n",
       "      <th>monetary</th>\n",
       "      <th>R_score</th>\n",
       "      <th>F_score</th>\n",
       "      <th>M_score</th>\n",
       "      <th>RFMscore</th>\n",
       "    </tr>\n",
       "    <tr>\n",
       "      <th>customer_id</th>\n",
       "      <th></th>\n",
       "      <th></th>\n",
       "      <th></th>\n",
       "      <th></th>\n",
       "      <th></th>\n",
       "      <th></th>\n",
       "      <th></th>\n",
       "    </tr>\n",
       "  </thead>\n",
       "  <tbody>\n",
       "    <tr>\n",
       "      <th>CS1112</th>\n",
       "      <td>77.0</td>\n",
       "      <td>6</td>\n",
       "      <td>358</td>\n",
       "      <td>3</td>\n",
       "      <td>5</td>\n",
       "      <td>4</td>\n",
       "      <td>354</td>\n",
       "    </tr>\n",
       "    <tr>\n",
       "      <th>CS1113</th>\n",
       "      <td>51.0</td>\n",
       "      <td>11</td>\n",
       "      <td>775</td>\n",
       "      <td>4</td>\n",
       "      <td>2</td>\n",
       "      <td>2</td>\n",
       "      <td>422</td>\n",
       "    </tr>\n",
       "    <tr>\n",
       "      <th>CS1114</th>\n",
       "      <td>48.0</td>\n",
       "      <td>11</td>\n",
       "      <td>804</td>\n",
       "      <td>4</td>\n",
       "      <td>2</td>\n",
       "      <td>2</td>\n",
       "      <td>422</td>\n",
       "    </tr>\n",
       "    <tr>\n",
       "      <th>CS1115</th>\n",
       "      <td>27.0</td>\n",
       "      <td>10</td>\n",
       "      <td>765</td>\n",
       "      <td>5</td>\n",
       "      <td>3</td>\n",
       "      <td>2</td>\n",
       "      <td>532</td>\n",
       "    </tr>\n",
       "    <tr>\n",
       "      <th>CS1116</th>\n",
       "      <td>219.0</td>\n",
       "      <td>5</td>\n",
       "      <td>333</td>\n",
       "      <td>1</td>\n",
       "      <td>5</td>\n",
       "      <td>5</td>\n",
       "      <td>155</td>\n",
       "    </tr>\n",
       "  </tbody>\n",
       "</table>\n",
       "</div>"
      ],
      "text/plain": [
       "             recency  frequency  monetary  R_score  F_score  M_score RFMscore\n",
       "customer_id                                                                  \n",
       "CS1112          77.0          6       358        3        5        4      354\n",
       "CS1113          51.0         11       775        4        2        2      422\n",
       "CS1114          48.0         11       804        4        2        2      422\n",
       "CS1115          27.0         10       765        5        3        2      532\n",
       "CS1116         219.0          5       333        1        5        5      155"
      ]
     },
     "execution_count": 34,
     "metadata": {},
     "output_type": "execute_result"
    }
   ],
   "source": [
    "rfmSeg.head()"
   ]
  },
  {
   "cell_type": "markdown",
   "id": "904e4f13",
   "metadata": {},
   "source": [
    "#### Every customer has now been assigned their RFM score, showing what category they belong to."
   ]
  },
  {
   "cell_type": "code",
   "execution_count": 35,
   "id": "9b5f7eba",
   "metadata": {},
   "outputs": [
    {
     "data": {
      "text/html": [
       "<div>\n",
       "<style scoped>\n",
       "    .dataframe tbody tr th:only-of-type {\n",
       "        vertical-align: middle;\n",
       "    }\n",
       "\n",
       "    .dataframe tbody tr th {\n",
       "        vertical-align: top;\n",
       "    }\n",
       "\n",
       "    .dataframe thead th {\n",
       "        text-align: right;\n",
       "    }\n",
       "</style>\n",
       "<table border=\"1\" class=\"dataframe\">\n",
       "  <thead>\n",
       "    <tr style=\"text-align: right;\">\n",
       "      <th></th>\n",
       "      <th>recency</th>\n",
       "      <th>frequency</th>\n",
       "      <th>monetary</th>\n",
       "      <th>R_score</th>\n",
       "      <th>F_score</th>\n",
       "      <th>M_score</th>\n",
       "      <th>RFMscore</th>\n",
       "    </tr>\n",
       "    <tr>\n",
       "      <th>customer_id</th>\n",
       "      <th></th>\n",
       "      <th></th>\n",
       "      <th></th>\n",
       "      <th></th>\n",
       "      <th></th>\n",
       "      <th></th>\n",
       "      <th></th>\n",
       "    </tr>\n",
       "  </thead>\n",
       "  <tbody>\n",
       "    <tr>\n",
       "      <th>CS1541</th>\n",
       "      <td>157.0</td>\n",
       "      <td>23</td>\n",
       "      <td>1791</td>\n",
       "      <td>1</td>\n",
       "      <td>1</td>\n",
       "      <td>1</td>\n",
       "      <td>111</td>\n",
       "    </tr>\n",
       "    <tr>\n",
       "      <th>CS3799</th>\n",
       "      <td>167.0</td>\n",
       "      <td>22</td>\n",
       "      <td>1440</td>\n",
       "      <td>1</td>\n",
       "      <td>1</td>\n",
       "      <td>1</td>\n",
       "      <td>111</td>\n",
       "    </tr>\n",
       "    <tr>\n",
       "      <th>CS1215</th>\n",
       "      <td>149.0</td>\n",
       "      <td>18</td>\n",
       "      <td>1235</td>\n",
       "      <td>1</td>\n",
       "      <td>1</td>\n",
       "      <td>1</td>\n",
       "      <td>111</td>\n",
       "    </tr>\n",
       "    <tr>\n",
       "      <th>CS3842</th>\n",
       "      <td>197.0</td>\n",
       "      <td>17</td>\n",
       "      <td>1211</td>\n",
       "      <td>1</td>\n",
       "      <td>1</td>\n",
       "      <td>1</td>\n",
       "      <td>111</td>\n",
       "    </tr>\n",
       "    <tr>\n",
       "      <th>CS6059</th>\n",
       "      <td>151.0</td>\n",
       "      <td>14</td>\n",
       "      <td>1138</td>\n",
       "      <td>1</td>\n",
       "      <td>1</td>\n",
       "      <td>1</td>\n",
       "      <td>111</td>\n",
       "    </tr>\n",
       "    <tr>\n",
       "      <th>...</th>\n",
       "      <td>...</td>\n",
       "      <td>...</td>\n",
       "      <td>...</td>\n",
       "      <td>...</td>\n",
       "      <td>...</td>\n",
       "      <td>...</td>\n",
       "      <td>...</td>\n",
       "    </tr>\n",
       "    <tr>\n",
       "      <th>CS7941</th>\n",
       "      <td>30.0</td>\n",
       "      <td>2</td>\n",
       "      <td>108</td>\n",
       "      <td>5</td>\n",
       "      <td>5</td>\n",
       "      <td>5</td>\n",
       "      <td>555</td>\n",
       "    </tr>\n",
       "    <tr>\n",
       "      <th>CS8188</th>\n",
       "      <td>17.0</td>\n",
       "      <td>3</td>\n",
       "      <td>106</td>\n",
       "      <td>5</td>\n",
       "      <td>5</td>\n",
       "      <td>5</td>\n",
       "      <td>555</td>\n",
       "    </tr>\n",
       "    <tr>\n",
       "      <th>CS8304</th>\n",
       "      <td>26.0</td>\n",
       "      <td>2</td>\n",
       "      <td>79</td>\n",
       "      <td>5</td>\n",
       "      <td>5</td>\n",
       "      <td>5</td>\n",
       "      <td>555</td>\n",
       "    </tr>\n",
       "    <tr>\n",
       "      <th>CS7574</th>\n",
       "      <td>23.0</td>\n",
       "      <td>4</td>\n",
       "      <td>78</td>\n",
       "      <td>5</td>\n",
       "      <td>5</td>\n",
       "      <td>5</td>\n",
       "      <td>555</td>\n",
       "    </tr>\n",
       "    <tr>\n",
       "      <th>CS8077</th>\n",
       "      <td>31.0</td>\n",
       "      <td>2</td>\n",
       "      <td>46</td>\n",
       "      <td>5</td>\n",
       "      <td>5</td>\n",
       "      <td>5</td>\n",
       "      <td>555</td>\n",
       "    </tr>\n",
       "  </tbody>\n",
       "</table>\n",
       "<p>6884 rows × 7 columns</p>\n",
       "</div>"
      ],
      "text/plain": [
       "             recency  frequency  monetary  R_score  F_score  M_score RFMscore\n",
       "customer_id                                                                  \n",
       "CS1541         157.0         23      1791        1        1        1      111\n",
       "CS3799         167.0         22      1440        1        1        1      111\n",
       "CS1215         149.0         18      1235        1        1        1      111\n",
       "CS3842         197.0         17      1211        1        1        1      111\n",
       "CS6059         151.0         14      1138        1        1        1      111\n",
       "...              ...        ...       ...      ...      ...      ...      ...\n",
       "CS7941          30.0          2       108        5        5        5      555\n",
       "CS8188          17.0          3       106        5        5        5      555\n",
       "CS8304          26.0          2        79        5        5        5      555\n",
       "CS7574          23.0          4        78        5        5        5      555\n",
       "CS8077          31.0          2        46        5        5        5      555\n",
       "\n",
       "[6884 rows x 7 columns]"
      ]
     },
     "execution_count": 35,
     "metadata": {},
     "output_type": "execute_result"
    }
   ],
   "source": [
    "#Sorting the RFM in asscending order\n",
    "rfmSeg.sort_values(by=['RFMscore', 'monetary'], ascending=[True, False])"
   ]
  },
  {
   "cell_type": "code",
   "execution_count": 60,
   "id": "2b1eb46d",
   "metadata": {},
   "outputs": [
    {
     "data": {
      "text/html": [
       "<div>\n",
       "<style scoped>\n",
       "    .dataframe tbody tr th:only-of-type {\n",
       "        vertical-align: middle;\n",
       "    }\n",
       "\n",
       "    .dataframe tbody tr th {\n",
       "        vertical-align: top;\n",
       "    }\n",
       "\n",
       "    .dataframe thead th {\n",
       "        text-align: right;\n",
       "    }\n",
       "</style>\n",
       "<table border=\"1\" class=\"dataframe\">\n",
       "  <thead>\n",
       "    <tr style=\"text-align: right;\">\n",
       "      <th></th>\n",
       "      <th>recency</th>\n",
       "      <th>frequency</th>\n",
       "      <th>monetary</th>\n",
       "      <th>R_score</th>\n",
       "      <th>F_score</th>\n",
       "      <th>M_score</th>\n",
       "      <th>RFMscore</th>\n",
       "    </tr>\n",
       "    <tr>\n",
       "      <th>customer_id</th>\n",
       "      <th></th>\n",
       "      <th></th>\n",
       "      <th></th>\n",
       "      <th></th>\n",
       "      <th></th>\n",
       "      <th></th>\n",
       "      <th></th>\n",
       "    </tr>\n",
       "  </thead>\n",
       "  <tbody>\n",
       "    <tr>\n",
       "      <th>CS7380</th>\n",
       "      <td>32.0</td>\n",
       "      <td>6</td>\n",
       "      <td>335</td>\n",
       "      <td>5</td>\n",
       "      <td>5</td>\n",
       "      <td>5</td>\n",
       "      <td>555</td>\n",
       "    </tr>\n",
       "    <tr>\n",
       "      <th>CS1574</th>\n",
       "      <td>23.0</td>\n",
       "      <td>6</td>\n",
       "      <td>333</td>\n",
       "      <td>5</td>\n",
       "      <td>5</td>\n",
       "      <td>5</td>\n",
       "      <td>555</td>\n",
       "    </tr>\n",
       "    <tr>\n",
       "      <th>CS7625</th>\n",
       "      <td>21.0</td>\n",
       "      <td>6</td>\n",
       "      <td>332</td>\n",
       "      <td>5</td>\n",
       "      <td>5</td>\n",
       "      <td>5</td>\n",
       "      <td>555</td>\n",
       "    </tr>\n",
       "    <tr>\n",
       "      <th>CS3146</th>\n",
       "      <td>22.0</td>\n",
       "      <td>5</td>\n",
       "      <td>331</td>\n",
       "      <td>5</td>\n",
       "      <td>5</td>\n",
       "      <td>5</td>\n",
       "      <td>555</td>\n",
       "    </tr>\n",
       "    <tr>\n",
       "      <th>CS4402</th>\n",
       "      <td>33.0</td>\n",
       "      <td>6</td>\n",
       "      <td>329</td>\n",
       "      <td>5</td>\n",
       "      <td>5</td>\n",
       "      <td>5</td>\n",
       "      <td>555</td>\n",
       "    </tr>\n",
       "  </tbody>\n",
       "</table>\n",
       "</div>"
      ],
      "text/plain": [
       "             recency  frequency  monetary  R_score  F_score  M_score RFMscore\n",
       "customer_id                                                                  \n",
       "CS7380          32.0          6       335        5        5        5      555\n",
       "CS1574          23.0          6       333        5        5        5      555\n",
       "CS7625          21.0          6       332        5        5        5      555\n",
       "CS3146          22.0          5       331        5        5        5      555\n",
       "CS4402          33.0          6       329        5        5        5      555"
      ]
     },
     "execution_count": 60,
     "metadata": {},
     "output_type": "execute_result"
    }
   ],
   "source": [
    "rfmSeg[rfmSeg['RFMscore']=='555'].sort_values('monetary', ascending=False).head(5)"
   ]
  },
  {
   "cell_type": "markdown",
   "id": "39b99403",
   "metadata": {},
   "source": [
    "#### The values above show the top 5 customers with RFM score- 555, that interact with the business frequently, not long ago, then are the biggest spenders. "
   ]
  },
  {
   "cell_type": "markdown",
   "id": "269f4acc",
   "metadata": {},
   "source": [
    "### The insights provided by this RFM modelling would help this business engage with its customer groups differently with targeted marketing strategies."
   ]
  },
  {
   "cell_type": "code",
   "execution_count": null,
   "id": "555f89b4",
   "metadata": {},
   "outputs": [],
   "source": []
  }
 ],
 "metadata": {
  "kernelspec": {
   "display_name": "Python 3",
   "language": "python",
   "name": "python3"
  },
  "language_info": {
   "codemirror_mode": {
    "name": "ipython",
    "version": 3
   },
   "file_extension": ".py",
   "mimetype": "text/x-python",
   "name": "python",
   "nbconvert_exporter": "python",
   "pygments_lexer": "ipython3",
   "version": "3.6.13"
  }
 },
 "nbformat": 4,
 "nbformat_minor": 5
}
